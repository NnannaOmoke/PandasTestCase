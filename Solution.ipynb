{
 "cells": [
  {
   "cell_type": "code",
   "execution_count": 39,
   "metadata": {},
   "outputs": [],
   "source": [
    "import pandas as pan;\n",
    "import numpy as np;\n",
    "from datetime import datetime;\n",
    "import math as m;"
   ]
  },
  {
   "cell_type": "code",
   "execution_count": 3,
   "metadata": {},
   "outputs": [],
   "source": [
    "matrix_data = pan.read_csv(\"hotel_booking_data.csv\");"
   ]
  },
  {
   "cell_type": "code",
   "execution_count": 36,
   "metadata": {},
   "outputs": [
    {
     "name": "stdout",
     "output_type": "stream",
     "text": [
      "          hotel  is_canceled  lead_time  arrival_date_year arrival_date_month   \n",
      "0  Resort Hotel            0        342               2015               July  \\\n",
      "1  Resort Hotel            0        737               2015               July   \n",
      "2  Resort Hotel            0          7               2015               July   \n",
      "3  Resort Hotel            0         13               2015               July   \n",
      "4  Resort Hotel            0         14               2015               July   \n",
      "\n",
      "   arrival_date_week_number  arrival_date_day_of_month   \n",
      "0                        27                          1  \\\n",
      "1                        27                          1   \n",
      "2                        27                          1   \n",
      "3                        27                          1   \n",
      "4                        27                          1   \n",
      "\n",
      "   stays_in_weekend_nights  stays_in_week_nights  adults  ...   adr   \n",
      "0                        0                     0       2  ...   0.0  \\\n",
      "1                        0                     0       2  ...   0.0   \n",
      "2                        0                     1       1  ...  75.0   \n",
      "3                        0                     1       1  ...  75.0   \n",
      "4                        0                     2       2  ...  98.0   \n",
      "\n",
      "   required_car_parking_spaces total_of_special_requests reservation_status   \n",
      "0                            0                         0          Check-Out  \\\n",
      "1                            0                         0          Check-Out   \n",
      "2                            0                         0          Check-Out   \n",
      "3                            0                         0          Check-Out   \n",
      "4                            0                         1          Check-Out   \n",
      "\n",
      "  reservation_status_date            name                        email   \n",
      "0              2015-07-01   Ernest Barnes  Ernest.Barnes31@outlook.com  \\\n",
      "1              2015-07-01    Andrea Baker       Andrea_Baker94@aol.com   \n",
      "2              2015-07-02  Rebecca Parker   Rebecca_Parker@comcast.net   \n",
      "3              2015-07-02    Laura Murray            Laura_M@gmail.com   \n",
      "4              2015-07-03     Linda Hines           LHines@verizon.com   \n",
      "\n",
      "   phone-number       credit_card arrival_date  \n",
      "0  669-792-1661  ************4322  2015-July-1  \n",
      "1  858-637-6955  ************9157  2015-July-1  \n",
      "2  652-885-2745  ************3734  2015-July-1  \n",
      "3  364-656-8427  ************5677  2015-July-1  \n",
      "4  713-226-5883  ************5498  2015-July-1  \n",
      "\n",
      "[5 rows x 37 columns]\n",
      "Index(['hotel', 'is_canceled', 'lead_time', 'arrival_date_year',\n",
      "       'arrival_date_month', 'arrival_date_week_number',\n",
      "       'arrival_date_day_of_month', 'stays_in_weekend_nights',\n",
      "       'stays_in_week_nights', 'adults', 'children', 'babies', 'meal',\n",
      "       'country', 'market_segment', 'distribution_channel',\n",
      "       'is_repeated_guest', 'previous_cancellations',\n",
      "       'previous_bookings_not_canceled', 'reserved_room_type',\n",
      "       'assigned_room_type', 'booking_changes', 'deposit_type', 'agent',\n",
      "       'company', 'days_in_waiting_list', 'customer_type', 'adr',\n",
      "       'required_car_parking_spaces', 'total_of_special_requests',\n",
      "       'reservation_status', 'reservation_status_date', 'name', 'email',\n",
      "       'phone-number', 'credit_card', 'arrival_date'],\n",
      "      dtype='object')\n"
     ]
    }
   ],
   "source": [
    "print(matrix_data.head(5));\n",
    "print(matrix_data.columns)"
   ]
  },
  {
   "cell_type": "code",
   "execution_count": 6,
   "metadata": {},
   "outputs": [],
   "source": [
    "pan.to_datetime(arg = matrix_data[\"reservation_status_date\"]);"
   ]
  },
  {
   "cell_type": "code",
   "execution_count": 28,
   "metadata": {},
   "outputs": [
    {
     "name": "stdout",
     "output_type": "stream",
     "text": [
      "119389\n"
     ]
    }
   ],
   "source": [
    "#number of rows and whether any empty data exists\n",
    "print(matrix_data.tail(1).index[0]);\n",
    "#columns with the most empty data\n",
    "most_missing_info = matrix_data.isna().sum().idxmax();"
   ]
  },
  {
   "cell_type": "code",
   "execution_count": 13,
   "metadata": {},
   "outputs": [],
   "source": [
    "#add another column to show the comprehensive arrival date, and drop the useless one in the data \n",
    "#define a concat function then vectorize it \n",
    "def concatdate(year: int, month: str, day: int) -> str:\n",
    "    return str(year) + \"-\" + month + \"-\" + str(day);\n",
    "matrix_data1 = matrix_data;\n",
    "matrix_data1[\"arrival_date\"] = np.vectorize(concatdate)(matrix_data[\"arrival_date_year\"], matrix_data[\"arrival_date_month\"], matrix_data[\"arrival_date_day_of_month\"]);\n",
    "matrix_data1 = matrix_data1.drop([\"arrival_date_year\", \"arrival_date_month\", \"arrival_date_day_of_month\"], axis = 1);\n",
    "matrix_data1[\"arrival_date\"] = pan.to_datetime(arg = matrix_data1[\"arrival_date\"]);"
   ]
  },
  {
   "cell_type": "code",
   "execution_count": 29,
   "metadata": {},
   "outputs": [],
   "source": [
    "#drop columns that are basically useless, fill those that may be inferred\n",
    "matrix_data1 = matrix_data1.drop(most_missing_info, axis = 1);"
   ]
  },
  {
   "cell_type": "code",
   "execution_count": 32,
   "metadata": {},
   "outputs": [
    {
     "name": "stdout",
     "output_type": "stream",
     "text": [
      "country\n",
      "PRT    48590\n",
      "GBR    12129\n",
      "FRA    10415\n",
      "ESP     8568\n",
      "DEU     7287\n",
      "Name: count, dtype: int64\n"
     ]
    }
   ],
   "source": [
    "#most commonly used country codes \n",
    "print(matrix_data[\"country\"].value_counts()[: 5]);"
   ]
  },
  {
   "cell_type": "code",
   "execution_count": 43,
   "metadata": {},
   "outputs": [
    {
     "name": "stdout",
     "output_type": "stream",
     "text": [
      "Daniel Walter\n",
      "101.83112153446686\n",
      "3.4279001591423066\n"
     ]
    }
   ],
   "source": [
    "#person with the most ADR\n",
    "print(matrix_data1[\"name\"].iloc[matrix_data1[\"adr\"].idxmax()]);\n",
    "#the mean ADR\n",
    "print(matrix_data1[\"adr\"].mean());\n",
    "print(matrix_data1['stays_in_week_nights'].mean() + matrix_data1[\"stays_in_weekend_nights\"].mean());\n"
   ]
  }
 ],
 "metadata": {
  "kernelspec": {
   "display_name": "Python 3",
   "language": "python",
   "name": "python3"
  },
  "language_info": {
   "codemirror_mode": {
    "name": "ipython",
    "version": 3
   },
   "file_extension": ".py",
   "mimetype": "text/x-python",
   "name": "python",
   "nbconvert_exporter": "python",
   "pygments_lexer": "ipython3",
   "version": "3.11.2"
  },
  "orig_nbformat": 4
 },
 "nbformat": 4,
 "nbformat_minor": 2
}
