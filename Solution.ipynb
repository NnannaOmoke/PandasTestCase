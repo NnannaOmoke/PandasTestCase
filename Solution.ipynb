{
 "cells": [
  {
   "cell_type": "code",
   "execution_count": 1,
   "metadata": {},
   "outputs": [],
   "source": [
    "import pandas as pan;\n",
    "import numpy as np;\n",
    "from datetime import datetime;\n",
    "import math as m;"
   ]
  },
  {
   "cell_type": "code",
   "execution_count": 2,
   "metadata": {},
   "outputs": [],
   "source": [
    "matrix_data = pan.read_csv(\"hotel_booking_data.csv\");"
   ]
  },
  {
   "cell_type": "code",
   "execution_count": 3,
   "metadata": {},
   "outputs": [
    {
     "name": "stdout",
     "output_type": "stream",
     "text": [
      "          hotel  is_canceled  lead_time  arrival_date_year arrival_date_month   \n",
      "0  Resort Hotel            0        342               2015               July  \\\n",
      "1  Resort Hotel            0        737               2015               July   \n",
      "2  Resort Hotel            0          7               2015               July   \n",
      "3  Resort Hotel            0         13               2015               July   \n",
      "4  Resort Hotel            0         14               2015               July   \n",
      "\n",
      "   arrival_date_week_number  arrival_date_day_of_month   \n",
      "0                        27                          1  \\\n",
      "1                        27                          1   \n",
      "2                        27                          1   \n",
      "3                        27                          1   \n",
      "4                        27                          1   \n",
      "\n",
      "   stays_in_weekend_nights  stays_in_week_nights  adults  ...  customer_type   \n",
      "0                        0                     0       2  ...      Transient  \\\n",
      "1                        0                     0       2  ...      Transient   \n",
      "2                        0                     1       1  ...      Transient   \n",
      "3                        0                     1       1  ...      Transient   \n",
      "4                        0                     2       2  ...      Transient   \n",
      "\n",
      "    adr required_car_parking_spaces total_of_special_requests   \n",
      "0   0.0                           0                         0  \\\n",
      "1   0.0                           0                         0   \n",
      "2  75.0                           0                         0   \n",
      "3  75.0                           0                         0   \n",
      "4  98.0                           0                         1   \n",
      "\n",
      "  reservation_status reservation_status_date            name   \n",
      "0          Check-Out              2015-07-01   Ernest Barnes  \\\n",
      "1          Check-Out              2015-07-01    Andrea Baker   \n",
      "2          Check-Out              2015-07-02  Rebecca Parker   \n",
      "3          Check-Out              2015-07-02    Laura Murray   \n",
      "4          Check-Out              2015-07-03     Linda Hines   \n",
      "\n",
      "                         email  phone-number       credit_card  \n",
      "0  Ernest.Barnes31@outlook.com  669-792-1661  ************4322  \n",
      "1       Andrea_Baker94@aol.com  858-637-6955  ************9157  \n",
      "2   Rebecca_Parker@comcast.net  652-885-2745  ************3734  \n",
      "3            Laura_M@gmail.com  364-656-8427  ************5677  \n",
      "4           LHines@verizon.com  713-226-5883  ************5498  \n",
      "\n",
      "[5 rows x 36 columns]\n",
      "Index(['hotel', 'is_canceled', 'lead_time', 'arrival_date_year',\n",
      "       'arrival_date_month', 'arrival_date_week_number',\n",
      "       'arrival_date_day_of_month', 'stays_in_weekend_nights',\n",
      "       'stays_in_week_nights', 'adults', 'children', 'babies', 'meal',\n",
      "       'country', 'market_segment', 'distribution_channel',\n",
      "       'is_repeated_guest', 'previous_cancellations',\n",
      "       'previous_bookings_not_canceled', 'reserved_room_type',\n",
      "       'assigned_room_type', 'booking_changes', 'deposit_type', 'agent',\n",
      "       'company', 'days_in_waiting_list', 'customer_type', 'adr',\n",
      "       'required_car_parking_spaces', 'total_of_special_requests',\n",
      "       'reservation_status', 'reservation_status_date', 'name', 'email',\n",
      "       'phone-number', 'credit_card'],\n",
      "      dtype='object')\n"
     ]
    }
   ],
   "source": [
    "print(matrix_data.head(5));\n",
    "print(matrix_data.columns)"
   ]
  },
  {
   "cell_type": "code",
   "execution_count": 4,
   "metadata": {},
   "outputs": [],
   "source": [
    "pan.to_datetime(arg = matrix_data[\"reservation_status_date\"]);"
   ]
  },
  {
   "cell_type": "code",
   "execution_count": 5,
   "metadata": {},
   "outputs": [
    {
     "name": "stdout",
     "output_type": "stream",
     "text": [
      "119389\n"
     ]
    }
   ],
   "source": [
    "#number of rows and whether any empty data exists\n",
    "print(matrix_data.tail(1).index[0]);\n",
    "#columns with the most empty data\n",
    "most_missing_info = matrix_data.isna().sum().idxmax();"
   ]
  },
  {
   "cell_type": "code",
   "execution_count": 6,
   "metadata": {},
   "outputs": [],
   "source": [
    "#add another column to show the comprehensive arrival date, and drop the useless one in the data \n",
    "#define a concat function then vectorize it \n",
    "def concatdate(year: int, month: str, day: int) -> str:\n",
    "    return str(year) + \"-\" + month + \"-\" + str(day);\n",
    "matrix_data1 = matrix_data;\n",
    "matrix_data1[\"arrival_date\"] = np.vectorize(concatdate)(matrix_data[\"arrival_date_year\"], matrix_data[\"arrival_date_month\"], matrix_data[\"arrival_date_day_of_month\"]);\n",
    "matrix_data1 = matrix_data1.drop([\"arrival_date_year\", \"arrival_date_month\", \"arrival_date_day_of_month\"], axis = 1);\n",
    "matrix_data1[\"arrival_date\"] = pan.to_datetime(arg = matrix_data1[\"arrival_date\"]);"
   ]
  },
  {
   "cell_type": "code",
   "execution_count": 7,
   "metadata": {},
   "outputs": [],
   "source": [
    "#drop columns that are basically useless, fill those that may be inferred\n",
    "matrix_data1 = matrix_data1.drop(most_missing_info, axis = 1);"
   ]
  },
  {
   "cell_type": "code",
   "execution_count": 8,
   "metadata": {},
   "outputs": [
    {
     "name": "stdout",
     "output_type": "stream",
     "text": [
      "country\n",
      "PRT    48590\n",
      "GBR    12129\n",
      "FRA    10415\n",
      "ESP     8568\n",
      "DEU     7287\n",
      "Name: count, dtype: int64\n"
     ]
    }
   ],
   "source": [
    "#most commonly used country codes \n",
    "print(matrix_data[\"country\"].value_counts()[: 5]);"
   ]
  },
  {
   "cell_type": "code",
   "execution_count": 9,
   "metadata": {},
   "outputs": [
    {
     "name": "stdout",
     "output_type": "stream",
     "text": [
      "Daniel Walter\n",
      "101.83112153446686\n",
      "3.4279001591423066\n"
     ]
    }
   ],
   "source": [
    "#person with the most ADR\n",
    "print(matrix_data1['name'].iloc[matrix_data1[\"adr\"].idxmax()]);\n",
    "#the mean ADR\n",
    "print(matrix_data1[\"adr\"].mean());\n",
    "print(matrix_data1['stays_in_week_nights'].mean() + matrix_data1[\"stays_in_weekend_nights\"].mean());\n"
   ]
  },
  {
   "cell_type": "code",
   "execution_count": 10,
   "metadata": {},
   "outputs": [
    {
     "name": "stdout",
     "output_type": "stream",
     "text": [
      "Index(['hotel', 'is_canceled', 'lead_time', 'arrival_date_week_number',\n",
      "       'adults', 'children', 'babies', 'meal', 'country', 'market_segment',\n",
      "       'distribution_channel', 'is_repeated_guest', 'previous_cancellations',\n",
      "       'previous_bookings_not_canceled', 'reserved_room_type',\n",
      "       'assigned_room_type', 'booking_changes', 'deposit_type', 'agent',\n",
      "       'days_in_waiting_list', 'customer_type', 'adr',\n",
      "       'required_car_parking_spaces', 'total_of_special_requests',\n",
      "       'reservation_status', 'reservation_status_date', 'name', 'email',\n",
      "       'phone-number', 'credit_card', 'arrival_date', 'total_stay_days'],\n",
      "      dtype='object')\n"
     ]
    }
   ],
   "source": [
    "#concatenate the stay columns into one column\n",
    "def add(a: int, b: int ):\n",
    "     return a+b;\n",
    "matrix_data1[\"total_stay_days\"] = np.vectorize(add)(matrix_data1[\"stays_in_week_nights\"], matrix_data1[\"stays_in_weekend_nights\"])\n",
    "matrix_data1.drop([\"stays_in_week_nights\"], inplace=True, axis = 1);\n",
    "matrix_data1.drop([\"stays_in_weekend_nights\"], inplace=True, axis = 1);\n",
    "print(matrix_data1.columns);"
   ]
  },
  {
   "cell_type": "code",
   "execution_count": 11,
   "metadata": {},
   "outputs": [
    {
     "name": "stdout",
     "output_type": "stream",
     "text": [
      "count    119390.000000\n",
      "mean          3.427900\n",
      "std           2.557439\n",
      "min           0.000000\n",
      "25%           2.000000\n",
      "50%           3.000000\n",
      "75%           4.000000\n",
      "max          69.000000\n",
      "Name: total_stay_days, dtype: float64\n"
     ]
    }
   ],
   "source": [
    "print(matrix_data1[\"total_stay_days\"].describe());\n",
    "#note how the mean of this series is equal to the cumulative mean gotten when we added the redundant columns total weekday and total weeknight stays"
   ]
  },
  {
   "cell_type": "code",
   "execution_count": 12,
   "metadata": {},
   "outputs": [
    {
     "name": "stdout",
     "output_type": "stream",
     "text": [
      "357.84820780634897\n"
     ]
    }
   ],
   "source": [
    "#average total cost for a stay\n",
    "print(np.vectorize(lambda a, b: a* b)(matrix_data1[\"adr\"], matrix_data1[\"total_stay_days\"]).mean());"
   ]
  },
  {
   "cell_type": "code",
   "execution_count": 13,
   "metadata": {},
   "outputs": [
    {
     "name": "stdout",
     "output_type": "stream",
     "text": [
      "                          name                          email\n",
      "7860             Amanda Harper           Amanda.H66@yahoo.com\n",
      "11125            Laura Sanders      Sanders_Laura@hotmail.com\n",
      "14596              Tommy Ortiz            Tommy_O@hotmail.com\n",
      "14921           Gilbert Miller         Miller.Gilbert@aol.com\n",
      "14922           Timothy Torres         TTorres@protonmail.com\n",
      "24630          Jennifer Weaver             Jennifer_W@aol.com\n",
      "27288           Crystal Horton             Crystal.H@mail.com\n",
      "27477           Brittney Burke       Burke_Brittney16@att.com\n",
      "29906          Cynthia Cabrera    Cabrera.Cynthia@xfinity.com\n",
      "29949              Sarah Floyd              Sarah_F@gmail.com\n",
      "32267           Michelle Villa         Michelle.Villa@aol.com\n",
      "39027           Nichole Hebert       Hebert.Nichole@gmail.com\n",
      "39129         Lindsey Mckenzie       Lindsey.Mckenzie@att.com\n",
      "39525           Ashley Edwards       Edwards.Ashley@yahoo.com\n",
      "70114       Christopher Torres   Torres.Christopher@gmail.com\n",
      "78819   Mrs. Tara Sullivan DVM           Mrs..DVM@xfinity.com\n",
      "78820           Michaela Brown          MichaelaBrown@att.com\n",
      "78822        Kurt Maldonado MD              KMD15@xfinity.com\n",
      "97072         Jason Richardson               Jason.R@zoho.com\n",
      "97099             Terri Hurley            THurley@xfinity.com\n",
      "97261        Mrs. Caitlin Webb             Mrs._W@comcast.net\n",
      "98410             Holly Arroyo          Arroyo_Holly@mail.com\n",
      "98674          Denise Campbell             Denise_C@gmail.com\n",
      "99887            Michael Smith            Michael.S42@aol.com\n",
      "99888       Dr. Trevor Sellers                  Dr._S@aol.com\n",
      "101569            Kayla Murphy         Kayla.Murphy@yahoo.com\n",
      "102061         Taylor Martinez    Taylor.Martinez@hotmail.com\n",
      "109511          Charles Wilson       Charles_Wilson@yahoo.com\n",
      "109590           Tyler Allison         Tyler.A@protonmail.com\n",
      "110082          Matthew Bailey         Matthew_Bailey@aol.com\n",
      "110083       Charlotte Acevedo        Charlotte_A@verizon.com\n",
      "111909         Darrell Brennan  Brennan_Darrell51@hotmail.com\n",
      "111911          Melinda Jensen         MelindaJensen@zoho.com\n",
      "113915            Terry Arnold          Arnold.Terry@zoho.com\n",
      "114770             Mary Nguyen     Nguyen.Mary@protonmail.com\n",
      "114909          Lindsay Cuevas      Lindsay.Cuevas40@mail.com\n",
      "116455       Cynthia Hernandez   CynthiaHernandez@xfinity.com\n",
      "116457          Angela Hawkins             Angela_H@gmail.com\n",
      "118817              Sue Lawson            Sue.L52@comcast.net\n",
      "119161         Alyssa Richards        Alyssa_Richards@aol.com\n"
     ]
    }
   ],
   "source": [
    "#made exactly five requests \n",
    "print(matrix_data1[matrix_data1[\"total_of_special_requests\"] == 5][[\"name\", \"email\"]]);"
   ]
  },
  {
   "cell_type": "code",
   "execution_count": 14,
   "metadata": {},
   "outputs": [
    {
     "name": "stdout",
     "output_type": "stream",
     "text": [
      "3.191222045397437\n"
     ]
    }
   ],
   "source": [
    "#percentage are repeat guests\n",
    "# print(matrix_data1[\"is_repeated_guest\"].head());\n",
    "print(len(matrix_data1[matrix_data1[\"is_repeated_guest\"] == 1])/len(matrix_data1) * 100);"
   ]
  },
  {
   "cell_type": "code",
   "execution_count": 15,
   "metadata": {},
   "outputs": [
    {
     "name": "stdout",
     "output_type": "stream",
     "text": [
      "Smith       2503\n",
      "Johnson     1990\n",
      "Williams    1618\n",
      "Jones       1434\n",
      "Brown       1423\n",
      "Name: count, dtype: int64\n"
     ]
    }
   ],
   "source": [
    "#top 5 most common last names in the dataset\n",
    "ser = np.vectorize(lambda a: a.split()[-1])(matrix_data1[\"name\"]);\n",
    "print(pan.Series(ser).value_counts()[: 5]);"
   ]
  },
  {
   "cell_type": "code",
   "execution_count": 17,
   "metadata": {},
   "outputs": [
    {
     "name": "stdout",
     "output_type": "stream",
     "text": [
      "arrival_date\n",
      "Friday       19631\n",
      "Thursday     19254\n",
      "Monday       18171\n",
      "Saturday     18055\n",
      "Wednesday    16139\n",
      "Sunday       14141\n",
      "Tuesday      13999\n",
      "Name: count, dtype: int64\n"
     ]
    }
   ],
   "source": [
    "#table that counts what day of the week customers arrived\n",
    "#no need to map, simply create a new column that takes the datetime object I've already collected, assign it to a column, then print the value_counts\n",
    "print(matrix_data1[\"arrival_date\"].map(lambda x: x.strftime(\"%A\")).value_counts());\n",
    "#okay apparently there was a need to map\n",
    "#I have to say though, I am elegant"
   ]
  },
  {
   "cell_type": "code",
   "execution_count": null,
   "metadata": {},
   "outputs": [],
   "source": []
  }
 ],
 "metadata": {
  "kernelspec": {
   "display_name": "Python 3",
   "language": "python",
   "name": "python3"
  },
  "language_info": {
   "codemirror_mode": {
    "name": "ipython",
    "version": 3
   },
   "file_extension": ".py",
   "mimetype": "text/x-python",
   "name": "python",
   "nbconvert_exporter": "python",
   "pygments_lexer": "ipython3",
   "version": "3.11.2"
  },
  "orig_nbformat": 4
 },
 "nbformat": 4,
 "nbformat_minor": 2
}
